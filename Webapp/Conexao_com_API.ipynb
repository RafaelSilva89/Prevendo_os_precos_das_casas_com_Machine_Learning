{
 "cells": [
  {
   "cell_type": "markdown",
   "id": "29f9dbc3",
   "metadata": {},
   "source": [
    "**Nota:**\n",
    "- A requisição vamos fazer pelo Jupyter e no Pycharm vamos criar API"
   ]
  },
  {
   "cell_type": "code",
   "execution_count": 1,
   "id": "5a7f88f1",
   "metadata": {},
   "outputs": [],
   "source": [
    "# Nosso sistema de conexão com a API (através deste sistema vamos conectar na API que vamos desenvolver)"
   ]
  },
  {
   "cell_type": "code",
   "execution_count": 2,
   "id": "a2926bf8",
   "metadata": {
    "ExecuteTime": {
     "end_time": "2023-05-09T19:07:54.513683Z",
     "start_time": "2023-05-09T19:07:54.208860Z"
    }
   },
   "outputs": [],
   "source": [
    "# Conexões\n",
    "import requests"
   ]
  },
  {
   "cell_type": "code",
   "execution_count": 5,
   "id": "61209c97",
   "metadata": {
    "ExecuteTime": {
     "end_time": "2023-05-09T19:09:16.024959Z",
     "start_time": "2023-05-09T19:09:15.946447Z"
    }
   },
   "outputs": [
    {
     "data": {
      "text/plain": [
       "{'Valor_Aluguel': '[9092.4058806]'}"
      ]
     },
     "execution_count": 5,
     "metadata": {},
     "output_type": "execute_result"
    }
   ],
   "source": [
    "# Local da URL\n",
    "Url = 'http://127.0.0.1:5000/API_Preditivo/500;4;5;3;0;1;0;0;742'\n",
    "\n",
    "# Acessar a conexão\n",
    "Consulta = requests.get( Url )\n",
    "\n",
    "# Buscar a info\n",
    "Resposta = Consulta.json()\n",
    "\n",
    "# Devolução\n",
    "Resposta"
   ]
  }
 ],
 "metadata": {
  "kernelspec": {
   "display_name": "Python 3 (ipykernel)",
   "language": "python",
   "name": "python3"
  },
  "language_info": {
   "codemirror_mode": {
    "name": "ipython",
    "version": 3
   },
   "file_extension": ".py",
   "mimetype": "text/x-python",
   "name": "python",
   "nbconvert_exporter": "python",
   "pygments_lexer": "ipython3",
   "version": "3.9.12"
  }
 },
 "nbformat": 4,
 "nbformat_minor": 5
}
